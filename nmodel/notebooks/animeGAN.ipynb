{
  "cells": [
    {
      "cell_type": "markdown",
      "metadata": {
        "colab_type": "text",
        "id": "view-in-github"
      },
      "source": [
        "<a href=\"https://colab.research.google.com/github/ptran1203/pytorch-animeGAN/blob/master/notebooks/animeGAN.ipynb\" target=\"_parent\"><img src=\"https://colab.research.google.com/assets/colab-badge.svg\" alt=\"Open In Colab\"/></a>"
      ]
    },
    {
      "cell_type": "code",
      "execution_count": 1,
      "metadata": {
        "id": "rvh6-cYkHY90"
      },
      "outputs": [],
      "source": [
        "from google.colab import drive, output\n",
        "import torch\n",
        "dv = torch.cuda.get_device_name(0)\n",
        "print(dv)\n",
        "\n",
        "drive.mount('/content/drive', force_remount=False)\n",
        "repo = \"Pytorch-animeGAN\"\n",
        "%cd \"/content\"\n",
        "!rm -rf {repo}\n",
        "!git clone https://github.com/ptran1203/{repo}\n",
        "%cd {repo}\n",
        "output.clear()"
      ]
    },
    {
      "cell_type": "code",
      "execution_count": 2,
      "metadata": {
        "id": "x0_9-Gd3AZKk"
      },
      "outputs": [],
      "source": [
        "import os\n",
        "import urllib\n",
        "\n",
        "data_path = 'anime-gan.zip'\n",
        "dataset_url = 'https://github.com/ptran1203/pytorch-animeGAN/releases/download/v1.0/dataset_v1.zip'\n",
        "\n",
        "if not os.path.exists(\"/content/dataset\"):\n",
        "    !wget -O {data_path} {dataset_url}\n",
        "    !unzip {data_path} -d /content\n",
        "    !rm {data_path}\n",
        "\n",
        "    if not os.path.exists(\"/content/dataset\"):\n",
        "        raise ValueError(f\"Download Failed, {data_path}\")\n",
        "\n",
        "output.clear()"
      ]
    },
    {
      "cell_type": "code",
      "execution_count": 3,
      "metadata": {
        "id": "62WdajGhbB2h"
      },
      "outputs": [],
      "source": [
        "working_dir = '/content/drive/MyDrive/animeGAN'\n",
        "print(f\"You're running on {dv}\")"
      ]
    },
    {
      "cell_type": "code",
      "execution_count": null,
      "metadata": {
        "id": "cn88CEIiHWE3"
      },
      "outputs": [],
      "source": [
        "!python3 train.py --real_image_dir '/content/dataset/train_photo'\\\n",
        "                  --anime_image_dir '/content/dataset/Hayao'\\\n",
        "                  --batch 8\\\n",
        "                  --model v2\\\n",
        "                  --amp --cache\\\n",
        "                  --init_epochs 10\\\n",
        "                  --exp_dir {working_dir}\\\n",
        "                  --gan_loss lsgan\\\n",
        "                  --init_lr 0.0001\\\n",
        "                  --lr_g 0.00002\\\n",
        "                  --lr_d 0.00004\\\n",
        "                  --wadvd 300.0\\\n",
        "                  --wadvg 300.0\\\n",
        "                  --wcon 1.5\\\n",
        "                  --wgra 3.0\\\n",
        "                  --wcol 70.0\\\n",
        "                  --use_sn"
      ]
    },
    {
      "cell_type": "code",
      "execution_count": 23,
      "metadata": {
        "colab": {
          "base_uri": "https://localhost:8080/"
        },
        "id": "f3BSs5dkAFXP",
        "outputId": "51bf178f-d78f-4702-9c2a-125ce25621bb"
      },
      "outputs": [
        {
          "name": "stdout",
          "output_type": "stream",
          "text": [
            "Weight loaded, ready to predict\n"
          ]
        }
      ],
      "source": [
        "from inference import Predictor\n",
        "predictor = Predictor(f\"{working_dir}/Generatorv2_Hayao.pt\")"
      ]
    },
    {
      "cell_type": "code",
      "execution_count": null,
      "metadata": {
        "id": "0hTIi5dvkzAZ"
      },
      "outputs": [],
      "source": [
        "import cv2\n",
        "import random\n",
        "import matplotlib.pyplot as plt\n",
        "import numpy as np\n",
        "\n",
        "def random_img(img_dir):\n",
        "    # p = '/content/test_4.png'\n",
        "    p = os.path.join(img_dir, random.choice(os.listdir(img_dir)))\n",
        "    return cv2.imread(p)[:, :, ::-1]\n",
        "\n",
        "image = random_img('/content/dataset/test/HR_photo')\n",
        "image = cv2.resize(image, (768, 512))\n",
        "\n",
        "anime_img = (predictor.transform(image) + 1) / 2\n",
        "\n",
        "fig = plt.figure(figsize=(18, 25))\n",
        "fig.add_subplot(1, 2, 1)\n",
        "plt.imshow(image)\n",
        "fig.add_subplot(1, 2, 2)\n",
        "plt.imshow(anime_img[0])\n",
        "plt.show()"
      ]
    },
    {
      "cell_type": "markdown",
      "metadata": {
        "id": "l1STqcCd4VcQ"
      },
      "source": [
        "Inference Image"
      ]
    },
    {
      "cell_type": "code",
      "execution_count": 27,
      "metadata": {
        "colab": {
          "base_uri": "https://localhost:8080/"
        },
        "id": "nxiL259r4Uqi",
        "outputId": "38181834-882f-42c4-c5ac-3674d91e2c84"
      },
      "outputs": [
        {
          "name": "stdout",
          "output_type": "stream",
          "text": [
            "Weight loaded, ready to predict\n",
            "Found 45 images in /content/dataset/test/HR_photo\n",
            "100% 45/45 [00:24<00:00,  1.82it/s]\n"
          ]
        }
      ],
      "source": [
        "!python3 inference_image.py --checkpoint {working_dir}/Generatorv2_Hayao.pt\\\n",
        "                            --src /content/dataset/test/HR_photo\\\n",
        "                            --dest inference_shinkai"
      ]
    },
    {
      "cell_type": "markdown",
      "metadata": {
        "id": "vb_Jxx7gO-vp"
      },
      "source": [
        "Inference video"
      ]
    },
    {
      "cell_type": "code",
      "execution_count": 8,
      "metadata": {
        "id": "0WFuk0cfPAzl"
      },
      "outputs": [],
      "source": [
        "!python3 inference_video.py --checkpoint {ckp_dir}\\\n",
        "                            --src /content/test_vid_3.mp4\\\n",
        "                            --dest /content/test_vid_3_anime.mp4\\\n",
        "                            --batch-size 2"
      ]
    }
  ],
  "metadata": {
    "accelerator": "GPU",
    "colab": {
      "collapsed_sections": [],
      "include_colab_link": true,
      "name": "animeGAN.ipynb",
      "provenance": []
    },
    "kernelspec": {
      "display_name": "Python 3",
      "name": "python3"
    },
    "language_info": {
      "name": "python"
    }
  },
  "nbformat": 4,
  "nbformat_minor": 0
}
